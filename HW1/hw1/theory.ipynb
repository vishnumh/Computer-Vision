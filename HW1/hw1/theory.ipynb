{
 "cells": [
  {
   "cell_type": "code",
   "execution_count": null,
   "metadata": {},
   "outputs": [],
   "source": []
  },
  {
   "cell_type": "markdown",
   "metadata": {
    "deletable": false,
    "editable": false,
    "nbgrader": {
     "cell_type": "markdown",
     "checksum": "88368d998ae6f13b66528ed7450a5e6c",
     "grade": false,
     "grade_id": "header",
     "locked": true,
     "schema_version": 3,
     "solution": false,
     "task": false
    }
   },
   "source": [
    "<img align=\"center\" src=\"data/handout/course.png\" width=\"800\">\n",
    "\n",
    "## Hough Transform - Assignment 1\n",
    "    Instructor: Kris                          TAs: Rawal (Lead), Yan, Zen, Wen-Hsuan, Paritosh, Qichen\n",
    "\n",
    "In this assignment you will be implementing a Hough Transform based line detector. \n",
    "\n",
    "<img align=\"center\" src=\"data/handout/ht.gif\" width=\"500\">"
   ]
  },
  {
   "cell_type": "markdown",
   "metadata": {
    "deletable": false,
    "editable": false,
    "nbgrader": {
     "cell_type": "markdown",
     "checksum": "e7774173427921d9605c9d2d8c92b534",
     "grade": false,
     "grade_id": "cell-ee45598a54db40ca",
     "locked": true,
     "schema_version": 3,
     "solution": false,
     "task": false
    }
   },
   "source": [
    "---\n",
    "## Theory Questions (25 points)\n",
    "**Grading**: \n",
    "- Each question is 5 points. \n",
    "- Please add your answers to the writeup. Insert images whenever necessary.\n",
    "- Show all your work to obtain full credit."
   ]
  },
  {
   "cell_type": "markdown",
   "metadata": {
    "deletable": false,
    "editable": false,
    "nbgrader": {
     "cell_type": "markdown",
     "checksum": "6d8a7b9a156280b230e157fb68b81da1",
     "grade": false,
     "grade_id": "theory_q1",
     "locked": true,
     "schema_version": 3,
     "solution": false,
     "task": false
    }
   },
   "source": [
    "**Q1**: Show that using $ x\\cos \\theta + y \\sin \\theta - \\rho = 0 $, each image point $(x, y)$ results in a sinsuoid in $(\\rho, \\theta)$ hough space.  \n",
    "Use the formulation, $a \\sin \\theta + b \\cos \\theta = A \\sin(\\theta + \\phi)$ for the sinsuoid.  \n",
    "Write the amplitude \\\\(A \\\\) and phase \\\\( \\phi \\\\) of the sinusoid as a function of \\\\( (x, y) \\\\). "
   ]
  },
  {
   "cell_type": "markdown",
   "metadata": {
    "deletable": false,
    "nbgrader": {
     "cell_type": "markdown",
     "checksum": "b2fff622dd362c71d4a7709f51ac1b55",
     "grade": true,
     "grade_id": "theory_q1_ans",
     "locked": false,
     "points": 5,
     "schema_version": 3,
     "solution": true,
     "task": false
    }
   },
   "source": [
    "Given $x \\cos\\theta + y \\sin\\theta = \\rho$\n",
    "\n",
    "For each point $(xi, yi)$ in the image space, <br><br> $ x_{i}\\cos \\theta + y_{i} \\sin \\theta - \\rho = 0 $ <br><br> Let A =  $\\sqrt{x_{i}^2 + y_{i}^2} $ <br><br> $\\rho = \\sqrt{x_{i}^2 + y_{i}^2} (\\frac{x_{i}}{\\sqrt{{x_{i}^2 + y_{i}^2}}}\\cos \\theta + \\frac{y_{i}}{\\sqrt{{x_{i}^2 + y_{i}^2}}} \\sin \\theta)$ <br><br> Let <br>$ \\sin a = \\frac{x_{i}}{\\sqrt{{x_{i}^2 + y_{i}^2}}}$ <br> and $\\cos a =\\frac{y_{i}}{\\sqrt{{x_{i}^2 + y_{i}^2}}}$ <br> from the given trigonometric identity: $(\\sin a \\cos \\theta + \\cos a \\sin \\theta) = \\sin(a+ \\theta)$ <br><br> $\\rho = A (\\sin a \\cos \\theta + \\cos a \\sin \\theta) = A \\sin(a+ \\theta)$ <br>\n",
    "   \n",
    "Hence for each point (xi, yi) in the image space, the ρ is sinusoidal function of θ with amplitude A and phase a\n"
   ]
  },
  {
   "cell_type": "markdown",
   "metadata": {
    "deletable": false,
    "editable": false,
    "nbgrader": {
     "cell_type": "markdown",
     "checksum": "8f1899fd8b2e4e3dd9079c2447eed607",
     "grade": false,
     "grade_id": "theory_q2",
     "locked": true,
     "schema_version": 3,
     "solution": false,
     "task": false
    }
   },
   "source": [
    "**Q2**: Why do we parameterize the line in terms of \\\\(\\rho, \\theta\\\\) instead of slope and intercept \\\\((m, c)\\\\)?  \n",
    "Also write the slope \\\\(m\\\\) and intercept \\\\(c\\\\) as a function of \\\\(\\rho\\\\) and \\\\(\\theta\\\\). "
   ]
  },
  {
   "cell_type": "markdown",
   "metadata": {
    "deletable": false,
    "nbgrader": {
     "cell_type": "markdown",
     "checksum": "55f8ec0f1a1d3026da42762e3309b17e",
     "grade": true,
     "grade_id": "theory_q2_ans",
     "locked": false,
     "points": 5,
     "schema_version": 3,
     "solution": true,
     "task": false
    }
   },
   "source": [
    "In the slope intercept form, there are cases when the accumulator array becomes really large. Consider a vertical line in image space, the slope intercept form for this line is infinty (m) and intercept is at negative infinity and positive infinity.\n",
    "\n",
    "$  \\rho = x\\cos \\theta + y \\sin \\theta $\n",
    "\n",
    "$  \\rho = \\sin \\theta$  $(x \\large\\frac{\\cos \\theta}{\\sin \\theta} + y)  $\n",
    "\n",
    "In the slope intercept form \n",
    "\n",
    "$  y = $m$ x + c $\n",
    "\n",
    "From the above two equations \n",
    " $ m = - \\large \\frac{ \\cos \\theta}{\\sin \\theta}$ and\n",
    " \n",
    " $ c = \\large\\frac{\\rho}{\\sin \\theta}$\n"
   ]
  },
  {
   "cell_type": "markdown",
   "metadata": {
    "deletable": false,
    "editable": false,
    "nbgrader": {
     "cell_type": "markdown",
     "checksum": "576d611c2a9de50619a0596b22673783",
     "grade": false,
     "grade_id": "theory_q3",
     "locked": true,
     "schema_version": 3,
     "solution": false,
     "task": false
    }
   },
   "source": [
    "**Q3**: Assume the image points \\\\((x, y)\\\\) are in an image of width \\\\(W\\\\) and height \\\\(H\\\\), \\\\(x \\in [1, W], y \\in [1, H]\\\\).  \n",
    "What is the maximum absolute value of \\\\(\\rho\\\\) and what is the range of \\\\(\\theta\\\\)?"
   ]
  },
  {
   "cell_type": "markdown",
   "metadata": {
    "deletable": false,
    "nbgrader": {
     "cell_type": "markdown",
     "checksum": "57ae4a7360308f9ea4ffde5d34fa0a3e",
     "grade": true,
     "grade_id": "theory_q3_ans",
     "locked": false,
     "points": 5,
     "schema_version": 3,
     "solution": true,
     "task": false
    }
   },
   "source": [
    "The maximum absolute value for the $\\rho = \\sqrt{ xmax^2 + ymax^2} = \\sqrt{ W^2 + H^2}$  and range of the $\\theta$ is from $[0, 360]$"
   ]
  },
  {
   "cell_type": "markdown",
   "metadata": {
    "deletable": false,
    "editable": false,
    "nbgrader": {
     "cell_type": "markdown",
     "checksum": "c504a8b632334522118747924e9e249e",
     "grade": false,
     "grade_id": "theory_q4",
     "locked": true,
     "schema_version": 3,
     "solution": false,
     "task": false
    }
   },
   "source": [
    "**Q4**: For points $(10, 10)$, $(15, 15)$ and $(30, 30)$ in the image, plot the corresponding sinusoid waves in Hough space $(\\rho, \\theta)$.  \n",
    "Also visualize how their intersection point defines the line (what is ($m, c$) for this line?).  \n",
    "Please add the plot as image."
   ]
  },
  {
   "cell_type": "markdown",
   "metadata": {
    "deletable": false,
    "nbgrader": {
     "cell_type": "markdown",
     "checksum": "a5145d792542757d2b951105d48cbbcb",
     "grade": true,
     "grade_id": "theory_q4_ans",
     "locked": false,
     "points": 5,
     "schema_version": 3,
     "solution": true,
     "task": false
    }
   },
   "source": [
    "($m, c$) for this line is (1, 0) as its slope is $45 deg$ and it has intercepts at $(0, 0)$"
   ]
  },
  {
   "cell_type": "code",
   "execution_count": 33,
   "metadata": {},
   "outputs": [
    {
     "data": {
      "image/png": "[encoded data removed]",
      "text/plain": [
       "<Figure size 432x288 with 1 Axes>"
      ]
     },
     "metadata": {
      "needs_background": "light"
     },
     "output_type": "display_data"
    }
   ],
   "source": [
    "x= [10,15,30]\n",
    "y= [10,15,30]\n",
    "import math\n",
    "import numpy as np\n",
    "import matplotlib.pyplot as plt\n",
    "rho1=[]\n",
    "rho2=[]\n",
    "rho2=[]\n",
    "A = [math.sqrt(x[i]**2 + y[i]**2) for i in range(len(x))]\n",
    "alpha = [np.arcsin(x[i]/beta[i]) for i in range(len(x))]\n",
    "theta = np.linspace(-0,np.pi,1000)\n",
    "rho1 = A[0]*np.sin(theta+alpha[0]) \n",
    "rho2 = A[1]*np.sin(theta+alpha[1]) \n",
    "rho3 = A[2]*np.sin(theta+alpha[2]) \n",
    "fig = plt.figure()\n",
    "ax = fig.add_axes([0,0,1,1])\n",
    "ax.plot(theta, rho1,label=\"rho1\")\n",
    "ax.plot(theta, rho2,label=\"rho2\")\n",
    "ax.plot(theta, rho3,label=\"rho3\")\n",
    "\n",
    "ax.legend(loc=(0.1,0.1)) \n",
    "\n",
    "plt.show()"
   ]
  },
  {
   "cell_type": "markdown",
   "metadata": {
    "deletable": false,
    "editable": false,
    "nbgrader": {
     "cell_type": "markdown",
     "checksum": "5cc16b8a2cb6668755507b6b2a4df324",
     "grade": false,
     "grade_id": "theory_q5",
     "locked": true,
     "schema_version": 3,
     "solution": false,
     "task": false
    }
   },
   "source": [
    "**Q5**: How does the dimension of parameter space affects Hough Transform method? What would you do when the parameter space is high, i.e., 3D or 4D instead of 2D? Briefly explain your method."
   ]
  },
  {
   "cell_type": "markdown",
   "metadata": {
    "deletable": false,
    "nbgrader": {
     "cell_type": "markdown",
     "checksum": "8c8bb0c0b11471122110f0a30f039b46",
     "grade": true,
     "grade_id": "theory_q5_ans",
     "locked": false,
     "points": 5,
     "schema_version": 3,
     "solution": true,
     "task": false
    }
   },
   "source": [
    "As the dimension of the parameter space increases, the computational complexity increases, thereby increasing the difficulty to find every possible parameter. The decrease in parameter space will lead to a loss of a lot of features, causing fewer votes in the right bin. When the parameter space is high, like 3D or 4D, to efficiently compute the features, we can use 3D or 4D hough space and increase the size of the accumulator (Accumulator cube , polyhedral, Ball) accordingly. In addition, for better computational efficiency, we can use gradient information to calculate higher parameter space.  "
   ]
  },
  {
   "cell_type": "code",
   "execution_count": null,
   "metadata": {},
   "outputs": [],
   "source": []
  }
 ],
 "metadata": {
  "kernelspec": {
   "display_name": "Python 3",
   "language": "python",
   "name": "python3"
  },
  "language_info": {
   "codemirror_mode": {
    "name": "ipython",
    "version": 3
   },
   "file_extension": ".py",
   "mimetype": "text/x-python",
   "name": "python",
   "nbconvert_exporter": "python",
   "pygments_lexer": "ipython3",
   "version": "3.8.8"
  },
  "toc": {
   "base_numbering": 1,
   "nav_menu": {},
   "number_sections": true,
   "sideBar": true,
   "skip_h1_title": false,
   "title_cell": "Table of Contents",
   "title_sidebar": "Contents",
   "toc_cell": false,
   "toc_position": {
    "height": "calc(100% - 180px)",
    "left": "10px",
    "top": "150px",
    "width": "384px"
   },
   "toc_section_display": true,
   "toc_window_display": true
  }
 },
 "nbformat": 4,
 "nbformat_minor": 4
}
