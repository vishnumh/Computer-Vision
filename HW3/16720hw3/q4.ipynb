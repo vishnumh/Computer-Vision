{
 "cells": [
  {
   "cell_type": "markdown",
   "id": "6e2e1f7d",
   "metadata": {
    "deletable": false,
    "editable": false,
    "nbgrader": {
     "cell_type": "markdown",
     "checksum": "6c42f9d7cb29b206868290f1b831a70f",
     "grade": false,
     "grade_id": "cell-9e91f3f18e2f0746",
     "locked": true,
     "schema_version": 3,
     "solution": false,
     "task": false
    }
   },
   "source": [
    "<img align=\"center\" src=\"figures/course.png\" width=\"800\">\n",
    "\n",
    "#                                    16720 (B) Neural Networks for Recognition - Assignment 3\n",
    "\n",
    "     Instructor: Kris Kitani                       TAs: Qichen(Lead), Paritosh, Rawal, Yan, Zen, Wen-Hsuan"
   ]
  },
  {
   "cell_type": "markdown",
   "id": "d61fb3c7",
   "metadata": {
    "deletable": false,
    "editable": false,
    "nbgrader": {
     "cell_type": "markdown",
     "checksum": "10428476164dc2b80129a0d9c92b6f17",
     "grade": false,
     "grade_id": "cell-4ad5a6402c74aeff",
     "locked": true,
     "schema_version": 3,
     "solution": false,
     "task": false
    }
   },
   "source": [
    "## Q4 Extract Text from Images (35 points)\n",
    "\n",
    "**Please include all the write up answers below to theory.ipynb. For the questions need code, you need to include the screenshot of code to theory.ipynb to get points.**\n",
    "\n",
    "![](figures/annotatedLetters.jpg)\n",
    "<center>Sample image with handwritten characters annotated with boxes around each character</center>\n",
    "\n",
    "Now that you have a network that can recognize handwritten letters with reasonable accuracy, you can now use it to parse text in an image. Given an image with some text on it, our goal is to have a function that returns the actual text in the image. However, since your neural network expects a a binary image with a single character, you will need to process the input image to extract each character. There are various approaches that can be done so feel free to use any strategy you like.\n",
    "\n",
    "Here we outline one possible method, another is that given in a [tutorial](http://scikit-image.org/docs/dev/auto_examples/segmentation/plot_label.html)\n",
    "1. Process the image ([blur](http://scikit-image.org/docs/dev/auto_examples/filters/plot_denoise.html), [threshold](http://scikit-image.org/docs/dev/api/skimage.filters.html#skimage.filters.try_all_threshold), [opening morphology](http://scikit-image.org/docs/dev/api/skimage.morphology.html#skimage.morphology.opening), etc. (perhaps in that order)) to classify all pixels as being part of a character or background.\n",
    "2. Find connected groups of character pixels (see [skimage.measure.label](http://scikit-image.org/docs/dev/api/skimage.measure.html#skimage.measure.label)). Place a bounding box around each connected component.\n",
    "3. Group the letters based on which line of the text they are a part of, and sort each group so that the letters are in the order they appear on the page.\n",
    "4. Take each bounding box one at a time and resize it to $32\\times 32$, classify it with your network, and report the characters in order (inserting spaces when it makes sense).\n",
    "\n",
    "Since the network you trained likely does not have perfect accuracy, you can expect there to be some errors in your final text parsing. Whichever method you choose to implement for the character detection, you should be able to place a box on most of there characters in the image. We have provided you with **01\\_list.jpg**, **02\\_letters.jpg**, **03\\_haiku.jpg** and **04\\_deep.jpg** to test your implementation on."
   ]
  },
  {
   "cell_type": "markdown",
   "id": "c6df9d2b",
   "metadata": {
    "deletable": false,
    "editable": false,
    "nbgrader": {
     "cell_type": "markdown",
     "checksum": "7a4d5c702ec5cc53fa907944b5754ec3",
     "grade": false,
     "grade_id": "cell-f8a9268b86c6c4e8",
     "locked": true,
     "schema_version": 3,
     "solution": false,
     "task": false
    }
   },
   "source": [
    "### Q4.1 (3 points WriteUp)\n",
    "The method outlined above is pretty simplistic, and makes several assumptions. What are two big assumptions that the sample method makes. In your writeup, include two example images where you expect the character detection to fail (either miss valid letters, or respond to non-letters).\n",
    "\n",
    "<font color=\"red\">**Please include the write up answer to theory.ipynb**</font>"
   ]
  },
  {
   "cell_type": "markdown",
   "id": "818815a4",
   "metadata": {
    "deletable": false,
    "editable": false,
    "nbgrader": {
     "cell_type": "markdown",
     "checksum": "2978a50aecf562699f3bbb28ff98ccfe",
     "grade": false,
     "grade_id": "cell-31f1656690403e2c",
     "locked": true,
     "schema_version": 3,
     "solution": false,
     "task": false
    }
   },
   "source": [
    "### Q4.2 (13 points Code+WriteUp)\n",
    "Find letters in the image. Given an RGB image, this function should return bounding boxes for all of the located handwritten characters in the image, as well as a binary black-and-white version of the image \\texttt{im}. Each row of the matrix should contain **[y1,x1,y2,x2]** the positions of the top-left and bottom-right corners of the box. The black and white image should be floating point, 0 to 1, with the characters in black and background in white. \n",
    "\n",
    "<font color=\"red\">**Please include the write up answer and the screenshot of code to theory.ipynb**</font>"
   ]
  },
  {
   "cell_type": "code",
   "execution_count": 56,
   "id": "7eda8dbd",
   "metadata": {
    "deletable": false,
    "nbgrader": {
     "cell_type": "code",
     "checksum": "960e19bfd58e3a164b94c7ebdd105f10",
     "grade": false,
     "grade_id": "cell-e7dae5ca903a2fc4",
     "locked": false,
     "schema_version": 3,
     "solution": true,
     "task": false
    }
   },
   "outputs": [],
   "source": [
    "import numpy as np\n",
    "import skimage\n",
    "import skimage.measure\n",
    "import skimage.color as sc\n",
    "import skimage.restoration as sr\n",
    "import skimage.io\n",
    "import skimage.filters as sf\n",
    "import skimage.morphology\n",
    "from skimage.morphology import closing, square\n",
    "import skimage.segmentation\n",
    "\n",
    "\n",
    "def findLetters(image):\n",
    "    bboxes = []\n",
    "    \n",
    "    bw = None\n",
    "    # Calculating the noise in the image\n",
    "    sig_est = sr.estimate_sigma(image, multichannel =True, average_sigmas=True)\n",
    "    #print(sig_est)\n",
    "    \n",
    "    #Denosing the image\n",
    "    de_image = sr.denoise_bilateral(image,sigma_color=sig_est ,multichannel= True) #Denoising\n",
    "    \n",
    "    #Converting to Greyscale and float\n",
    "    gray = sc.rgb2gray(de_image) \n",
    "    gray = gray.astype('float')\n",
    "    \n",
    "    thresh = sf.threshold_otsu(gray) #taking threshold \n",
    "    \n",
    "    #Performing morphology\n",
    "    bw= closing(gray < thresh, square(8)) \n",
    "    \n",
    "    #Removing artifacts in the border\n",
    "    cleared = skimage.segmentation.clear_border(bw)\n",
    "\n",
    "    # label image regions\n",
    "    label_image = skimage.measure.label(cleared,connectivity=2) #background 1 as white is the req background \n",
    "    \n",
    "    #Selecting the bounding boxes based on the mean are of the bounding boxes\n",
    "    #Calculating the mean are\n",
    "    meanarea = 0\n",
    "    i=0\n",
    "    for region in skimage.measure.regionprops(label_image):\n",
    "        meanarea += region.area\n",
    "        i +=1\n",
    "    meanarea = meanarea/i\n",
    "    \n",
    "    #Looping throught each boundung boxes and finding the optimal ones \n",
    "    for region in skimage.measure.regionprops(label_image):\n",
    "        if region.area >=meanarea/3:\n",
    "        # draw rectangle around segmented image\n",
    "            minr, minc, maxr, maxc = region.bbox\n",
    "            bboxes.append([minr, minc, maxr, maxc])\n",
    "        \n",
    "   #inverting the image as the required output should be in yellow background (white when cmap = gray)\n",
    "    bw = (1-bw)\n",
    "    return bboxes, bw"
   ]
  },
  {
   "cell_type": "markdown",
   "id": "1e26e2e8",
   "metadata": {
    "deletable": false,
    "editable": false,
    "nbgrader": {
     "cell_type": "markdown",
     "checksum": "048c5ff931753cd316f9629ec8ada47d",
     "grade": false,
     "grade_id": "cell-1adb2ce6c11e2792",
     "locked": true,
     "schema_version": 3,
     "solution": false,
     "task": false
    }
   },
   "source": [
    "### Q4.3 (6 points Code+WriteUp)\n",
    "Run `findLetters()` on all of the provided sample images in **images/**. Plot all of the located boxes on top of the image to show the accuracy of your `findLetters()` function. Include all the result images in your writeup.\n",
    "\n",
    "<font color=\"red\">**Please include the write up answer and the screenshot of code to theory.ipynb**</font>"
   ]
  },
  {
   "cell_type": "code",
   "execution_count": 57,
   "id": "f22ca3c4-9bd0-42f7-9647-468d44aacebb",
   "metadata": {
    "tags": []
   },
   "outputs": [],
   "source": [
    "def sortedbb(img, thres):\n",
    "    \n",
    "    sorted = []\n",
    "\n",
    "    #Reading the image\n",
    "    im1 = skimage.img_as_float(skimage.io.imread(os.path.join('images',img)))\n",
    "    \n",
    "    # Extracting the bounding boxes\n",
    "    bboxes, bw = findLetters(im1)\n",
    "    plt.imshow(bw, cmap='gray')\n",
    "    \n",
    "    #Initialization for centers and height and width\n",
    "    # For centers\n",
    "    ybb = []\n",
    "    xbb = []\n",
    "    \n",
    "    h = []\n",
    "    w= []\n",
    "\n",
    "    #Looping through bounding boxes\n",
    "    for bbox in bboxes:\n",
    "        minr, minc, maxr, maxc = bbox\n",
    "        rect = matplotlib.patches.Rectangle((minc, minr), maxc - minc, maxr - minr,\n",
    "                                fill=False, edgecolor='red', linewidth=2)\n",
    "        plt.gca().add_patch(rect)\n",
    "        \n",
    "        #Centers\n",
    "        ybb.append((bbox[2]+bbox[0])/2)\n",
    "        xbb.append((bbox[1]+bbox[3])/2)\n",
    "        #Height and width\n",
    "        h.append(bbox[2]-bbox[0])\n",
    "        w.append(bbox[3]-bbox[1])\n",
    "\n",
    "    plt.show()\n",
    "    \n",
    "    #Taking the mean height and width in the boxes\n",
    "    hm = np.mean(np.asarray(h))\n",
    "    wm = np.mean(np.asarray(w))\n",
    "    \n",
    "    #print(hm//20, wm//20)\n",
    "    \n",
    "    #Creating a array with y coordinate, x coordinate of center and the initial arrangement\n",
    "    ybb = np.asarray(ybb).reshape((-1,1))\n",
    "    xbb = np.asarray(xbb).reshape((-1,1))\n",
    "    id = np.asarray(np.arange(ybb.shape[0])).reshape((-1,1))\n",
    "    #print(id)\n",
    "    \n",
    "    centerbb = np.hstack((ybb, xbb, id))\n",
    "    \n",
    "    #Sorting the center wrt to y axis\n",
    "    idx = np.argsort(centerbb[:,0])\n",
    "    \n",
    "    ncenbb = np.copy(centerbb[idx,:])\n",
    "    #print(ncenbb[:, 2].astype(int))\n",
    "    \n",
    "    #Sorting algorithm\n",
    "    sort = []# Provides the indicies of boxes after sorting\n",
    "    i =0\n",
    "    print(ybb.shape[0])\n",
    "    while(i < ybb.shape[0]):\n",
    "\n",
    "        tmp = []\n",
    "        \n",
    "        if i==0:\n",
    "            tmp.append(ncenbb[i,2])\n",
    "            #print(ncenbb[i,2].astype(int))\n",
    "            i +=1\n",
    "        j =0\n",
    "        \n",
    "        #Clustering the rows based on a threshold\n",
    "        while(((ncenbb[i+j,0] - ncenbb[i,0] ) < thres) ):\n",
    "            tmp.append(ncenbb[i+j,2])\n",
    "            #print(i+j)\n",
    "            #print(ncenbb[i+j,2].astype(int))\n",
    "            j+= 1\n",
    "            if (i+j >= ybb.shape[0]):\n",
    "                break\n",
    "       \n",
    "        #print(tmp)\n",
    "        tid = np.asarray(tmp).astype(int)\n",
    "        #print(tid)\n",
    "        \n",
    "        #Sorting the Clustered row wrt to xaxis\n",
    "        tidx =np.argsort(centerbb[tid,1]).astype(int)\n",
    "        #print(tid[tidx])\n",
    "\n",
    "        #Stacking the cluested row into a list\n",
    "        sort = np.hstack((sort, tid[tidx]))\n",
    "        \n",
    "        #Striding to the next row\n",
    "        i = i + j\n",
    "    #print(sort)\n",
    "    #Cropping the bboxes and processsing it\n",
    "    for i in sort:\n",
    "        \n",
    "        nb = np.asarray(bboxes)\n",
    "        #print(nb[int(i),0])\n",
    "        minr, minc, maxr, maxc =nb[int(i),:]\n",
    "        \n",
    "        h = int((maxr - minr))\n",
    "        w = int((maxc - minc))\n",
    "        h_pad, w_pad = 0, 0\n",
    "        \n",
    "        #For each images the padding value is different so padding based on the height and width value\n",
    "        if h > w:\n",
    "            h_pad = h//20\n",
    "            w_pad = (h-w)//2+h_pad\n",
    "        elif h < w:\n",
    "            w_pad = w//20\n",
    "            h_pad = (w-h)//2+w_pad\n",
    "        \n",
    "        # For square padding\n",
    "        if h_pad> w_pad:\n",
    "            pad = h_pad\n",
    "        elif h_pad < w_pad:\n",
    "            pad = w_pad\n",
    "        \n",
    "        #Aspect ratio Not required for this code\n",
    "        r = w/h\n",
    "        #print(h_pad, w_pad)\n",
    "        \n",
    "        crop = bw[minr:maxr, minc:maxc]\n",
    "        \n",
    "        crop = np.pad(crop, ((pad,pad), (pad,pad)), 'constant', constant_values=1.0)\n",
    "        \n",
    "        # For Refernce (Tuning the parameters)\n",
    "        # if (img == '01_list.jpg'):\n",
    "        #     crop = np.pad(crop, ((20, 20), (20, 20)), 'constant', constant_values=1.0)\n",
    "        # else:\n",
    "        #     crop = np.pad(crop, ((int(r*50), int(r*50)), (50, 50)), 'constant', constant_values=1.0)\n",
    "        #*************************************\n",
    "        crop =crop*255 #Needed before resizing\n",
    "        crop_size = skimage.transform.resize(crop,(32,32), anti_aliasing=True)\n",
    "        \n",
    "        #resizing affected the values in the image, so nomalizing back to 0,1\n",
    "        crop_size = (crop_size- np.min(crop_size))/(np.max(crop_size)- np.min(crop_size))\n",
    "        #Intensifing the pixel values in the center\n",
    "        crop_size = skimage.morphology.erosion(crop_size,  np.array([[0, 1, 0], [1, 1, 1], [0, 1, 0]]))\n",
    "        \n",
    "\n",
    "        # plt.imshow(crop_size)\n",
    "        # plt.show()\n",
    "        sorted.append(crop_size.T)\n",
    "\n",
    "    \n",
    "    return sorted\n",
    "      \n"
   ]
  },
  {
   "cell_type": "code",
   "execution_count": 58,
   "id": "d32d3026",
   "metadata": {
    "deletable": false,
    "nbgrader": {
     "cell_type": "code",
     "checksum": "154fb23e8415aa59b81d3bcf6b615d23",
     "grade": false,
     "grade_id": "cell-5d334112fbfbd1cd",
     "locked": false,
     "schema_version": 3,
     "solution": true,
     "task": false
    }
   },
   "outputs": [
    {
     "data": {
      "image/png": "[encoded data removed]",
      "text/plain": [
       "<Figure size 432x288 with 1 Axes>"
      ]
     },
     "metadata": {
      "needs_background": "light"
     },
     "output_type": "display_data"
    },
    {
     "name": "stdout",
     "output_type": "stream",
     "text": [
      "115\n"
     ]
    },
    {
     "data": {
      "image/png": "[encoded data removed]",
      "text/plain": [
       "<Figure size 432x288 with 1 Axes>"
      ]
     },
     "metadata": {
      "needs_background": "light"
     },
     "output_type": "display_data"
    },
    {
     "name": "stdout",
     "output_type": "stream",
     "text": [
      "36\n"
     ]
    },
    {
     "data": {
      "image/png": "[encoded data removed]",
      "text/plain": [
       "<Figure size 432x288 with 1 Axes>"
      ]
     },
     "metadata": {
      "needs_background": "light"
     },
     "output_type": "display_data"
    },
    {
     "name": "stdout",
     "output_type": "stream",
     "text": [
      "54\n"
     ]
    },
    {
     "data": {
      "image/png": "[encoded data removed]",
      "text/plain": [
       "<Figure size 432x288 with 1 Axes>"
      ]
     },
     "metadata": {
      "needs_background": "light"
     },
     "output_type": "display_data"
    },
    {
     "name": "stdout",
     "output_type": "stream",
     "text": [
      "41\n"
     ]
    }
   ],
   "source": [
    "import  nbimporter\n",
    "import os\n",
    "import matplotlib.pyplot as plt\n",
    "import matplotlib.patches\n",
    "import q2\n",
    "from q2 import *\n",
    "\n",
    "# do not include any more libraries here!\n",
    "# no opencv, no sklearn, etc!\n",
    "import warnings\n",
    "warnings.simplefilter(action='ignore', category=FutureWarning)\n",
    "warnings.simplefilter(action='ignore', category=UserWarning)\n",
    "\n",
    "#Creating list of sorted bboxes for each images\n",
    "sortedim1 =[]\n",
    "sortedim2 = []\n",
    "sortedim3 = []\n",
    "sortedim4 =[]\n",
    "\n",
    "for img in os.listdir('images'):\n",
    "    if (img == '01_list.jpg'):\n",
    "        sortedim1 = sortedbb(img, thres = 150)\n",
    "    if (img == '02_letters.jpg'):\n",
    "        sortedim2 = sortedbb(img, thres = 200)\n",
    "    if (img == '03_haiku.jpg'):\n",
    "        sortedim3 = sortedbb(img, thres = 200)\n",
    "    if (img == '04_deep.jpg'):\n",
    "        sortedim4 = sortedbb(img, thres = 200)\n",
    "    \n",
    "    "
   ]
  },
  {
   "cell_type": "code",
   "execution_count": 59,
   "id": "eab223e2-1343-482a-9241-000b3539ff64",
   "metadata": {},
   "outputs": [],
   "source": [
    "# Saving the bboxes in the pickle for q7\n",
    "import pickle\n",
    "# print(np.asarray(sortedim1).shape)\n",
    "# print(np.asarray(sortedim2).shape)\n",
    "# print(np.asarray(sortedim3).shape)\n",
    "# print(np.asarray(sortedim4).shape)\n",
    "with open('q4img1.pickle', 'wb') as handle:\n",
    "    pickle.dump(sortedim1, handle, protocol=pickle.HIGHEST_PROTOCOL)\n",
    "with open('q4img2.pickle', 'wb') as handle:\n",
    "    pickle.dump(sortedim2, handle, protocol=pickle.HIGHEST_PROTOCOL)\n",
    "with open('q4img3.pickle', 'wb') as handle:\n",
    "    pickle.dump(sortedim3, handle, protocol=pickle.HIGHEST_PROTOCOL)\n",
    "with open('q4img4.pickle', 'wb') as handle:\n",
    "    pickle.dump(sortedim4, handle, protocol=pickle.HIGHEST_PROTOCOL)"
   ]
  },
  {
   "cell_type": "markdown",
   "id": "d7787fe1",
   "metadata": {
    "deletable": false,
    "editable": false,
    "nbgrader": {
     "cell_type": "markdown",
     "checksum": "24f6fee2d67b0fafb3077c6101731475",
     "grade": false,
     "grade_id": "cell-b6c103335a0b75db",
     "locked": true,
     "schema_version": 3,
     "solution": false,
     "task": false
    }
   },
   "source": [
    "### Q4.4 (13 points Code+WriteUp)\n",
    "Now you will load the image, find the character locations, classify each one with the network you trained in **Q3.1**, and return the text contained in the image. Be sure you try to make your detected images look like the images from the training set. Visualize them and act accordingly. \n",
    "\n",
    "<font color=\"red\">**Please include the write up answer and the screenshot of code to theory.ipynb**</font>"
   ]
  },
  {
   "cell_type": "code",
   "execution_count": 60,
   "id": "afa64ac9-bd0a-4456-9d96-c6c592c6b787",
   "metadata": {},
   "outputs": [],
   "source": [
    "#Trainging in the NN and classification\n",
    "def getresult(x):\n",
    "    st = ' '\n",
    "    for i in range(x.shape[0]):\n",
    "        img = x[i,:,:].reshape((-1,32*32)) #Reshaping according to the input need in NN\n",
    "        #print(img.shape)\n",
    "        \n",
    "        postact1 = forward(img, params, 'layer1')\n",
    "        postact2 = forward(postact1, params, 'output', softmax)\n",
    "        #print(postact2.shape)\n",
    "        \n",
    "        idx = np.argmax(postact2[0, :])\n",
    "        #print(idx)\n",
    "        st = st + letters[idx] + ' ' \n",
    "    return st"
   ]
  },
  {
   "cell_type": "code",
   "execution_count": 61,
   "id": "7b488866",
   "metadata": {
    "deletable": false,
    "nbgrader": {
     "cell_type": "code",
     "checksum": "34b6e2de7dfb131a447a473b78758dd6",
     "grade": false,
     "grade_id": "cell-26374322f557beb3",
     "locked": false,
     "schema_version": 3,
     "solution": true,
     "task": false
    }
   },
   "outputs": [
    {
     "name": "stdout",
     "output_type": "stream",
     "text": [
      "\n",
      "Correct Ans1  : T O D O L I S T 1 M A K E A T O D O L I S T 1 C H E C K O F F T H E F I R S T T H I N G O N T O D O L I S T 3 R E A L I Z E Y O U H A V E A L R E A D Y C O M P L E T E D 2 T H I N G S 4 R E W A R D Y O U R S E L F W I T H A N A P\n",
      "Obtained Ans1:  T Q D Q L I 5 T I N A R E A T D Z G L I S T 2 L H 2 C K D F F T T H E F I R S T T H I W G Q N Q D Q L I S T 3 R Z A L I Z E Y Q U Y H H I A N V E G A L R 2 A D Y C Q M P L G T L D J S 4 R B W A R D Y Q U R S E L F W I T H A N A P \n",
      "\n",
      "Correct Ans2  : A B C D E F G H I J K L M N O P Q R S T U V W X Y Z 1 2 3 4 5 6 7 8 9 0\n",
      "Obtained Ans2:  A B C D E F G H I J K L M N Q P Q R S T U V W X Y Z 1 Z 3 G S G 7 8 7 J \n",
      "\n",
      "Correct Ans3  : H A I K U S A R E E A S Y B U T S O M E T I M E S T H E Y D O N T M A K E S E N S E R E F R I G E R A T O R\n",
      "Obtained Ans3:  H A I K U S A R G H A S Y B U T S Q M B T I M B G T H B T D D W T M A K G B G N G E R B G R I G E R A T Q R \n",
      "\n",
      "Correct Ans4  : D E E P L E A R N I N G D E E P E R L E A R N I N G D E E P E S T L E A R N I N G\n",
      "Obtained Ans4:  D E E P L E A R M I N G D E E P E R L E A R N I N G D E E P E S T L E A R Q I N G \n"
     ]
    }
   ],
   "source": [
    "# load the weights\n",
    "# run the crops through your neural network and print them out\n",
    "import pickle\n",
    "import string\n",
    "import numpy as np\n",
    "x1 = np.array(sortedim1)\n",
    "x2 = np.array(sortedim2)\n",
    "x3 = np.array(sortedim3)\n",
    "x4 = np.array(sortedim4)\n",
    "letters = np.array([_ for _ in string.ascii_uppercase[:26]] + [str(_) for _ in range(10)])\n",
    "\n",
    "#Importing parameters from q3\n",
    "params = pickle.load(open('q3_weights.pickle','rb'))\n",
    "\n",
    "Ans1 = 'T O D O L I S T 1 M A K E A T O D O L I S T 1 C H E C K O F F T H E F I R S T T H I N G O N T O D O L I S T 3 R E A L I Z E Y O U H A V E A L R E A D Y C O M P L E T E D 2 T H I N G S 4 R E W A R D Y O U R S E L F W I T H A N A P'\n",
    "Ans2 = 'A B C D E F G H I J K L M N O P Q R S T U V W X Y Z 1 2 3 4 5 6 7 8 9 0'\n",
    "Ans3 = 'H A I K U S A R E E A S Y B U T S O M E T I M E S T H E Y D O N T M A K E S E N S E R E F R I G E R A T O R'\n",
    "Ans4 = 'D E E P L E A R N I N G D E E P E R L E A R N I N G D E E P E S T L E A R N I N G'\n",
    "st1 = getresult(x1)\n",
    "st2 = getresult(x2)\n",
    "st3 = getresult(x3)\n",
    "st4 = getresult(x4)\n",
    "\n",
    "\n",
    "# print(len(st1))\n",
    "# print(len(st2))\n",
    "# print(len(st3))\n",
    "# print(len(st4))\n",
    "\n",
    "print('\\nCorrect Ans1  :', Ans1)\n",
    "print('Obtained Ans1:', st1)\n",
    "# print('\\n Accuracy = ', cor1/len(st1)*100)\n",
    "\n",
    "print('\\nCorrect Ans2  :', Ans2)\n",
    "print('Obtained Ans2:', st2)\n",
    "\n",
    "print('\\nCorrect Ans3  :', Ans3)\n",
    "print('Obtained Ans3:', st3)\n",
    "\n",
    "print('\\nCorrect Ans4  :', Ans4)\n",
    "print('Obtained Ans4:', st4)\n",
    "# YOUR CODE HERE\n",
    "#raise NotImplementedError()"
   ]
  }
 ],
 "metadata": {
  "kernelspec": {
   "display_name": "Python 3",
   "language": "python",
   "name": "python3"
  },
  "language_info": {
   "codemirror_mode": {
    "name": "ipython",
    "version": 3
   },
   "file_extension": ".py",
   "mimetype": "text/x-python",
   "name": "python",
   "nbconvert_exporter": "python",
   "pygments_lexer": "ipython3",
   "version": "3.8.8"
  }
 },
 "nbformat": 4,
 "nbformat_minor": 5
}
