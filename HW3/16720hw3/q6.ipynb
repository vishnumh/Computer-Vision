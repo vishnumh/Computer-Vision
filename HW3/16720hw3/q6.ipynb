{
 "cells": [
  {
   "cell_type": "markdown",
   "id": "a9383aaf",
   "metadata": {
    "deletable": false,
    "editable": false,
    "nbgrader": {
     "cell_type": "markdown",
     "checksum": "33ed2275e8505974770f4e8ccd3d6dc9",
     "grade": false,
     "grade_id": "cell-414c97a71d2f69b1",
     "locked": true,
     "schema_version": 3,
     "solution": false,
     "task": false
    }
   },
   "source": [
    "<img align=\"center\" src=\"figures/course.png\" width=\"800\">\n",
    "\n",
    "#                                    16720 (B) Neural Networks for Recognition - Assignment 3\n",
    "\n",
    "     Instructor: Kris Kitani                       TAs: Qichen(Lead), Paritosh, Rawal, Yan, Zen, Wen-Hsuan"
   ]
  },
  {
   "cell_type": "markdown",
   "id": "4f039ea1",
   "metadata": {
    "deletable": false,
    "editable": false,
    "nbgrader": {
     "cell_type": "markdown",
     "checksum": "0d5864766d3643938abd2f65f8a77192",
     "grade": false,
     "grade_id": "cell-90e4cb2fa4ba9a54",
     "locked": true,
     "schema_version": 3,
     "solution": false,
     "task": false
    }
   },
   "source": [
    "## Q6 Comparing against PCA [Extra Credit](15 points)\n",
    "\n",
    "**Note: We would recommend finishing Question 7 (pytorch) before attempting this question**\n",
    "\n",
    "**Please include all the write up answers below to theory.ipynb. For the questions need code, you need to include the screenshot of code to theory.ipynb to get points.**\n",
    "\n",
    "As a baseline for comparison, we will use one of the most popular methods for data dimensionality reduction - Principle Component Analysis (PCA). PCA allows one to find the best low-rank approximation of the data by keeping only a specified number of principle components. To perform PCA, we will use a factorization method called Singular Value Decomposition (SVD).\n",
    "\n",
    "Run SVD on the training data. One of the matrices will be an orthonormal matrix that indicates the components of your data, sorted by their importances. Extract the first 32 principle components and form a projection matrix; you will need to figure out how to do these from the **U,S,V** matrices."
   ]
  },
  {
   "cell_type": "markdown",
   "id": "90813b72",
   "metadata": {
    "deletable": false,
    "editable": false,
    "nbgrader": {
     "cell_type": "markdown",
     "checksum": "bd734c43f52e90de166c9a9d44295190",
     "grade": false,
     "grade_id": "cell-c8bdd44fdd3b3823",
     "locked": true,
     "schema_version": 3,
     "solution": false,
     "task": false
    }
   },
   "source": [
    "### Q6.1 (4 Points Code+WriteUp)\n",
    " \n",
    "What is the size of your projection matrix? What is its rank?\n",
    "\n",
    "This projection matrix was \"trained\" from our training data. Now let’s \"test\" it on our test data. Use the projection matrix on test data to obtain the reconstructed test images. Note that these reconstructions can also be represented with only 32 numbers.\n",
    "\n",
    "**Hint**: [np.linalg.svd](https://numpy.org/doc/stable/reference/generated/numpy.linalg.svd.html) could be useful for this question.\n",
    "\n",
    "<font color=\"red\">**Please include the write up answer and the screenshot of code to theory.ipynb**</font>"
   ]
  },
  {
   "cell_type": "code",
   "execution_count": null,
   "id": "3675670f",
   "metadata": {
    "deletable": false,
    "nbgrader": {
     "cell_type": "code",
     "checksum": "372f8f7735228d85ebbe10ba2dc7f5ad",
     "grade": true,
     "grade_id": "cell-1776fea375da1607",
     "locked": false,
     "points": 4,
     "schema_version": 3,
     "solution": true,
     "task": false
    }
   },
   "outputs": [],
   "source": [
    "import numpy as np\n",
    "import scipy.io\n",
    "from q2 import *\n",
    "import matplotlib.pyplot as plt\n",
    "\n",
    "train_data = scipy.io.loadmat('data/nist36_train.mat')\n",
    "valid_data = scipy.io.loadmat('data/nist36_valid.mat')\n",
    "\n",
    "# we don't need labels now!\n",
    "train_x = train_data['train_data']\n",
    "valid_x = valid_data['valid_data']\n",
    "\n",
    "dim = 32\n",
    "# do PCA\n",
    "# YOUR CODE HERE\n",
    "raise NotImplementedError()"
   ]
  },
  {
   "cell_type": "markdown",
   "id": "9c22598b",
   "metadata": {
    "deletable": false,
    "editable": false,
    "nbgrader": {
     "cell_type": "markdown",
     "checksum": "9c5cd53858705dc8143477e2f99d9ba2",
     "grade": false,
     "grade_id": "cell-c10698e79712f54c",
     "locked": true,
     "schema_version": 3,
     "solution": false,
     "task": false
    }
   },
   "source": [
    "### Q6.2 (4 Points Code+WriteUp)\n",
    " \n",
    "Use the classes you selected in **Q5.3.1**, and for each of these 5 classes, include in your report 2 test images and their reconstruction. You may use test labels to help you find the corresponding classes. What differences do you observe that exist in the reconstructed test images, compared to the original ones? How do they compare to the ones reconstructed from your autoencoder?\n",
    "\n",
    "<font color=\"red\">**Please include the write up answer and the screenshot of code to theory.ipynb**</font>"
   ]
  },
  {
   "cell_type": "code",
   "execution_count": null,
   "id": "99b051c1",
   "metadata": {
    "deletable": false,
    "nbgrader": {
     "cell_type": "code",
     "checksum": "3c7d9eafa9e5720208d67db995ad63db",
     "grade": true,
     "grade_id": "cell-776503a1eb95810b",
     "locked": false,
     "points": 4,
     "schema_version": 3,
     "solution": true,
     "task": false
    }
   },
   "outputs": [],
   "source": [
    "# YOUR CODE HERE\n",
    "raise NotImplementedError()"
   ]
  },
  {
   "cell_type": "markdown",
   "id": "1ee53eb1",
   "metadata": {
    "deletable": false,
    "editable": false,
    "nbgrader": {
     "cell_type": "markdown",
     "checksum": "b08258f4f59c915916413ce4be9b636c",
     "grade": false,
     "grade_id": "cell-97cfcd61f89513f2",
     "locked": true,
     "schema_version": 3,
     "solution": false,
     "task": false
    }
   },
   "source": [
    "### Q6.3 (4 Points Code+WriteUp)\n",
    " \n",
    "Report the average PSNR you get from PCA. Is it better than your autoencoder? Why?\n",
    "\n",
    "<font color=\"red\">**Please include the write up answer and the screenshot of code to theory.ipynb**</font>"
   ]
  },
  {
   "cell_type": "code",
   "execution_count": null,
   "id": "40ffd58d",
   "metadata": {
    "deletable": false,
    "nbgrader": {
     "cell_type": "code",
     "checksum": "aa011c6a540402720434e25136d3cfb5",
     "grade": true,
     "grade_id": "cell-7d224aaade5d7846",
     "locked": false,
     "points": 4,
     "schema_version": 3,
     "solution": true,
     "task": false
    }
   },
   "outputs": [],
   "source": [
    "from skimage.metrics import peak_signal_noise_ratio as psnr\n",
    "\n",
    "# evaluate PSNR\n",
    "# YOUR CODE HERE\n",
    "raise NotImplementedError()"
   ]
  },
  {
   "cell_type": "markdown",
   "id": "0d208405",
   "metadata": {
    "deletable": false,
    "editable": false,
    "nbgrader": {
     "cell_type": "markdown",
     "checksum": "6fb5d7549a87dbb57236507b4f040e40",
     "grade": false,
     "grade_id": "cell-d4be5fd7a8abb81e",
     "locked": true,
     "schema_version": 3,
     "solution": false,
     "task": false
    }
   },
   "source": [
    "### Q6.4 (3 Points Code+WriteUp)\n",
    " \n",
    "Count the number of learned parameters for both your autoencoder and the PCA model. How many parameters do the respective approaches learn? Why is there such a difference in terms of performance?\n",
    "\n",
    "<font color=\"red\">**Please include the write up answer and the screenshot of code to theory.ipynb**</font>"
   ]
  },
  {
   "cell_type": "code",
   "execution_count": null,
   "id": "333d0a23",
   "metadata": {
    "deletable": false,
    "nbgrader": {
     "cell_type": "code",
     "checksum": "6acb571357bbcacac6ac1e0926393d25",
     "grade": true,
     "grade_id": "cell-2d6abb03ab961a21",
     "locked": false,
     "points": 3,
     "schema_version": 3,
     "solution": true,
     "task": false
    }
   },
   "outputs": [],
   "source": [
    "# YOUR CODE HERE\n",
    "raise NotImplementedError()"
   ]
  }
 ],
 "metadata": {
  "kernelspec": {
   "display_name": "Python 3 (ipykernel)",
   "language": "python",
   "name": "python3"
  },
  "language_info": {
   "codemirror_mode": {
    "name": "ipython",
    "version": 3
   },
   "file_extension": ".py",
   "mimetype": "text/x-python",
   "name": "python",
   "nbconvert_exporter": "python",
   "pygments_lexer": "ipython3",
   "version": "3.9.7"
  }
 },
 "nbformat": 4,
 "nbformat_minor": 5
}
